{
 "cells": [
  {
   "cell_type": "code",
   "execution_count": 2,
   "id": "9a52e0d5-6ac4-4a4b-8829-64d61fbef99a",
   "metadata": {},
   "outputs": [
    {
     "name": "stdout",
     "output_type": "stream",
     "text": [
      "   IDpol  ClaimNb  Exposure Area  VehPower  VehAge  DrivAge  BonusMalus  \\\n",
      "0    1.0        1      0.10    D         5       0       55          50   \n",
      "1    3.0        1      0.77    D         5       0       55          50   \n",
      "2    5.0        1      0.75    B         6       2       52          50   \n",
      "3   10.0        1      0.09    B         7       0       46          50   \n",
      "4   11.0        1      0.84    B         7       0       46          50   \n",
      "\n",
      "  VehBrand   VehGas  Density Region  \n",
      "0      B12  Regular     1217    R82  \n",
      "1      B12  Regular     1217    R82  \n",
      "2      B12   Diesel       54    R22  \n",
      "3      B12   Diesel       76    R72  \n",
      "4      B12   Diesel       76    R72  \n"
     ]
    }
   ],
   "source": [
    "import pandas as pd\n",
    "from sklearn.model_selection import train_test_split\n",
    "\n",
    "df = pd.read_csv('freMTPL2freq.csv')\n",
    "\n",
    "print(df.head())"
   ]
  },
  {
   "cell_type": "code",
   "execution_count": 12,
   "id": "06d75c06-1a48-49d7-be1f-029d7ed7ea13",
   "metadata": {},
   "outputs": [
    {
     "name": "stdout",
     "output_type": "stream",
     "text": [
      "Training set:\n",
      "            IDpol  ClaimNb  Exposure Area  VehPower  VehAge  DrivAge  \\\n",
      "406477  3099378.0        1      1.00    B         6       5       59   \n",
      "393150  3068220.0        0      1.00    C        10      11       61   \n",
      "252885  2107013.0        0      1.00    A         7       4       42   \n",
      "260652  2121304.0        0      1.00    A         6       4       52   \n",
      "661256  6084903.0        0      0.28    D         5       3       71   \n",
      "\n",
      "        BonusMalus VehBrand   VehGas  Density Region  freq  \n",
      "406477          50       B2   Diesel       96    R72   1.0  \n",
      "393150          50       B3  Regular      111    R91   0.0  \n",
      "252885          50       B1   Diesel       19    R72   0.0  \n",
      "260652          50       B2   Diesel       16    R82   0.0  \n",
      "661256          50      B12  Regular      538    R53   0.0  \n",
      "\n",
      "Testing set:\n",
      "            IDpol  ClaimNb  Exposure Area  VehPower  VehAge  DrivAge  \\\n",
      "261354  2122523.0        0      0.43    D         7      18       36   \n",
      "448143  3173420.0        0      0.10    D         7      17       80   \n",
      "188618  1188619.0        0      0.33    E         7       3       36   \n",
      "12952     31400.0        0      0.56    A         5       4       73   \n",
      "425028  3138755.0        0      0.27    E         8       0       37   \n",
      "\n",
      "        BonusMalus VehBrand   VehGas  Density Region  freq  \n",
      "261354          95       B1  Regular     1054    R24   0.0  \n",
      "448143          95       B2  Regular      598    R25   0.0  \n",
      "188618          76       B6  Regular     4172    R82   0.0  \n",
      "12952           52      B13   Diesel       15    R24   0.0  \n",
      "425028          50      B11   Diesel     3021    R53   0.0  \n"
     ]
    }
   ],
   "source": [
    "df['freq'] = df['ClaimNb']/df['Exposure']\n",
    "\n",
    "x = df.drop('freq', axis=1)\n",
    "y = df['freq']\n",
    "\n",
    "x_train, x_test, y_train, y_test = train_test_split(\n",
    "    x, y, test_size=0.2, random_state=42\n",
    ")\n",
    "\n",
    "train_df = x_train.copy()\n",
    "train_df['freq'] = y_train\n",
    "\n",
    "test_df = x_test.copy()\n",
    "test_df['freq'] = y_test\n",
    "\n",
    "print('Training set:')\n",
    "print(train_df.head())\n",
    "\n",
    "print('\\nTesting set:')\n",
    "print(test_df.head())"
   ]
  }
 ],
 "metadata": {
  "kernelspec": {
   "display_name": "Python 3",
   "language": "python",
   "name": "python3"
  },
  "language_info": {
   "codemirror_mode": {
    "name": "ipython",
    "version": 3
   },
   "file_extension": ".py",
   "mimetype": "text/x-python",
   "name": "python",
   "nbconvert_exporter": "python",
   "pygments_lexer": "ipython3",
   "version": "3.12.10"
  }
 },
 "nbformat": 4,
 "nbformat_minor": 5
}
