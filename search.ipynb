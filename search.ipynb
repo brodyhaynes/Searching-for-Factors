{
 "cells": [
  {
   "cell_type": "code",
   "execution_count": 1,
   "id": "9a52e0d5-6ac4-4a4b-8829-64d61fbef99a",
   "metadata": {},
   "outputs": [
    {
     "name": "stdout",
     "output_type": "stream",
     "text": [
      "   IDpol  ClaimNb  Exposure Area  VehPower  VehAge  DrivAge  BonusMalus  \\\n",
      "0    1.0        1      0.10    D         5       0       55          50   \n",
      "1    3.0        1      0.77    D         5       0       55          50   \n",
      "2    5.0        1      0.75    B         6       2       52          50   \n",
      "3   10.0        1      0.09    B         7       0       46          50   \n",
      "4   11.0        1      0.84    B         7       0       46          50   \n",
      "\n",
      "  VehBrand   VehGas  Density Region  \n",
      "0      B12  Regular     1217    R82  \n",
      "1      B12  Regular     1217    R82  \n",
      "2      B12   Diesel       54    R22  \n",
      "3      B12   Diesel       76    R72  \n",
      "4      B12   Diesel       76    R72  \n"
     ]
    }
   ],
   "source": [
    "import pandas as pd\n",
    "from sklearn.model_selection import train_test_split\n",
    "\n",
    "df = pd.read_csv('freMTPL2freq.csv')\n",
    "\n",
    "print(df.head())"
   ]
  },
  {
   "cell_type": "code",
   "execution_count": null,
   "id": "06d75c06-1a48-49d7-be1f-029d7ed7ea13",
   "metadata": {},
   "outputs": [],
   "source": []
  }
 ],
 "metadata": {
  "kernelspec": {
   "display_name": "Python 3 (ipykernel)",
   "language": "python",
   "name": "python3"
  },
  "language_info": {
   "codemirror_mode": {
    "name": "ipython",
    "version": 3
   },
   "file_extension": ".py",
   "mimetype": "text/x-python",
   "name": "python",
   "nbconvert_exporter": "python",
   "pygments_lexer": "ipython3",
   "version": "3.12.10"
  }
 },
 "nbformat": 4,
 "nbformat_minor": 5
}
